{
 "cells": [
  {
   "cell_type": "code",
   "execution_count": 2,
   "id": "b5be5152",
   "metadata": {},
   "outputs": [],
   "source": [
    "# Dataframe\n",
    "import pandas as pd\n",
    "\n",
    "# Array\n",
    "import numpy as np\n",
    "\n",
    "# Visualizations\n",
    "import matplotlib.pyplot as plt\n",
    "from matplotlib.colors import ListedColormap\n",
    "import seaborn as sns\n",
    "import matplotlib.colors as colors\n",
    "%matplotlib inline\n",
    "import csv\n",
    "import json\n",
    "# Datetime\n",
    "from datetime import datetime\n",
    "\n",
    "## Warnings\n",
    "import warnings\n",
    "from scipy import stats\n",
    "warnings.filterwarnings('ignore')"
   ]
  },
  {
   "cell_type": "code",
   "execution_count": 3,
   "id": "c271f7c1",
   "metadata": {},
   "outputs": [],
   "source": [
    "# reading the csv file\n",
    "df = pd.read_csv(r\"C:\\Users\\Dell\\JupyterPythoncodes\\FinalProject\\healthcare_reviews.csv\")"
   ]
  },
  {
   "cell_type": "code",
   "execution_count": 4,
   "id": "fb8d5374",
   "metadata": {},
   "outputs": [
    {
     "data": {
      "text/html": [
       "<div>\n",
       "<style scoped>\n",
       "    .dataframe tbody tr th:only-of-type {\n",
       "        vertical-align: middle;\n",
       "    }\n",
       "\n",
       "    .dataframe tbody tr th {\n",
       "        vertical-align: top;\n",
       "    }\n",
       "\n",
       "    .dataframe thead th {\n",
       "        text-align: right;\n",
       "    }\n",
       "</style>\n",
       "<table border=\"1\" class=\"dataframe\">\n",
       "  <thead>\n",
       "    <tr style=\"text-align: right;\">\n",
       "      <th></th>\n",
       "      <th>Review_Text</th>\n",
       "      <th>Rating</th>\n",
       "    </tr>\n",
       "  </thead>\n",
       "  <tbody>\n",
       "    <tr>\n",
       "      <th>0</th>\n",
       "      <td>I have mixed feelings about my experience.</td>\n",
       "      <td>4</td>\n",
       "    </tr>\n",
       "    <tr>\n",
       "      <th>1</th>\n",
       "      <td>The staff was caring and attentive. I couldn't...</td>\n",
       "      <td>5</td>\n",
       "    </tr>\n",
       "    <tr>\n",
       "      <th>2</th>\n",
       "      <td>I have mixed feelings about my experience.</td>\n",
       "      <td>5</td>\n",
       "    </tr>\n",
       "    <tr>\n",
       "      <th>3</th>\n",
       "      <td>I have mixed feelings about my experience.</td>\n",
       "      <td>5</td>\n",
       "    </tr>\n",
       "    <tr>\n",
       "      <th>4</th>\n",
       "      <td>The healthcare provider was excellent. I had a...</td>\n",
       "      <td>3</td>\n",
       "    </tr>\n",
       "    <tr>\n",
       "      <th>5</th>\n",
       "      <td>The staff was caring and attentive. I couldn't...</td>\n",
       "      <td>4</td>\n",
       "    </tr>\n",
       "    <tr>\n",
       "      <th>6</th>\n",
       "      <td>NaN</td>\n",
       "      <td>2</td>\n",
       "    </tr>\n",
       "    <tr>\n",
       "      <th>7</th>\n",
       "      <td>I had a bad experience with this healthcare pr...</td>\n",
       "      <td>2</td>\n",
       "    </tr>\n",
       "    <tr>\n",
       "      <th>8</th>\n",
       "      <td>I have mixed feelings about my experience.</td>\n",
       "      <td>3</td>\n",
       "    </tr>\n",
       "    <tr>\n",
       "      <th>9</th>\n",
       "      <td>I have mixed feelings about my experience.</td>\n",
       "      <td>5</td>\n",
       "    </tr>\n",
       "  </tbody>\n",
       "</table>\n",
       "</div>"
      ],
      "text/plain": [
       "                                         Review_Text  Rating\n",
       "0        I have mixed feelings about my experience.        4\n",
       "1  The staff was caring and attentive. I couldn't...       5\n",
       "2        I have mixed feelings about my experience.        5\n",
       "3        I have mixed feelings about my experience.        5\n",
       "4  The healthcare provider was excellent. I had a...       3\n",
       "5  The staff was caring and attentive. I couldn't...       4\n",
       "6                                                NaN       2\n",
       "7  I had a bad experience with this healthcare pr...       2\n",
       "8        I have mixed feelings about my experience.        3\n",
       "9        I have mixed feelings about my experience.        5"
      ]
     },
     "execution_count": 4,
     "metadata": {},
     "output_type": "execute_result"
    }
   ],
   "source": [
    "df.head(10)"
   ]
  },
  {
   "cell_type": "code",
   "execution_count": 5,
   "id": "87038a29",
   "metadata": {},
   "outputs": [
    {
     "name": "stdout",
     "output_type": "stream",
     "text": [
      "<class 'pandas.core.frame.DataFrame'>\n",
      "RangeIndex: 1000 entries, 0 to 999\n",
      "Data columns (total 2 columns):\n",
      " #   Column       Non-Null Count  Dtype \n",
      "---  ------       --------------  ----- \n",
      " 0   Review_Text  900 non-null    object\n",
      " 1   Rating       1000 non-null   int64 \n",
      "dtypes: int64(1), object(1)\n",
      "memory usage: 15.8+ KB\n"
     ]
    }
   ],
   "source": [
    "df.info()"
   ]
  },
  {
   "cell_type": "code",
   "execution_count": 6,
   "id": "43ed2d38",
   "metadata": {},
   "outputs": [
    {
     "data": {
      "text/html": [
       "<div>\n",
       "<style scoped>\n",
       "    .dataframe tbody tr th:only-of-type {\n",
       "        vertical-align: middle;\n",
       "    }\n",
       "\n",
       "    .dataframe tbody tr th {\n",
       "        vertical-align: top;\n",
       "    }\n",
       "\n",
       "    .dataframe thead th {\n",
       "        text-align: right;\n",
       "    }\n",
       "</style>\n",
       "<table border=\"1\" class=\"dataframe\">\n",
       "  <thead>\n",
       "    <tr style=\"text-align: right;\">\n",
       "      <th></th>\n",
       "      <th>count</th>\n",
       "      <th>mean</th>\n",
       "      <th>std</th>\n",
       "      <th>min</th>\n",
       "      <th>25%</th>\n",
       "      <th>50%</th>\n",
       "      <th>75%</th>\n",
       "      <th>max</th>\n",
       "    </tr>\n",
       "  </thead>\n",
       "  <tbody>\n",
       "    <tr>\n",
       "      <th>Rating</th>\n",
       "      <td>1000.0</td>\n",
       "      <td>3.058</td>\n",
       "      <td>1.425015</td>\n",
       "      <td>1.0</td>\n",
       "      <td>2.0</td>\n",
       "      <td>3.0</td>\n",
       "      <td>4.0</td>\n",
       "      <td>5.0</td>\n",
       "    </tr>\n",
       "  </tbody>\n",
       "</table>\n",
       "</div>"
      ],
      "text/plain": [
       "         count   mean       std  min  25%  50%  75%  max\n",
       "Rating  1000.0  3.058  1.425015  1.0  2.0  3.0  4.0  5.0"
      ]
     },
     "execution_count": 6,
     "metadata": {},
     "output_type": "execute_result"
    }
   ],
   "source": [
    "# Basic Statistics of the Dataset\n",
    "df.describe().T"
   ]
  },
  {
   "cell_type": "code",
   "execution_count": 7,
   "id": "a9635fc5",
   "metadata": {},
   "outputs": [
    {
     "data": {
      "text/plain": [
       "(1000, 2)"
      ]
     },
     "execution_count": 7,
     "metadata": {},
     "output_type": "execute_result"
    }
   ],
   "source": [
    "# Shape of the dataset\n",
    "df.shape"
   ]
  },
  {
   "cell_type": "code",
   "execution_count": 8,
   "id": "39f8afbe",
   "metadata": {},
   "outputs": [
    {
     "name": "stdout",
     "output_type": "stream",
     "text": [
      "The staff was caring and attentive. I couldn't be happier. \n"
     ]
    }
   ],
   "source": [
    "# Check out sample 'reviewText'\n",
    "print(df['Review_Text'][1])"
   ]
  },
  {
   "cell_type": "code",
   "execution_count": 9,
   "id": "5d542010",
   "metadata": {},
   "outputs": [
    {
     "data": {
      "text/plain": [
       "0"
      ]
     },
     "execution_count": 9,
     "metadata": {},
     "output_type": "execute_result"
    }
   ],
   "source": [
    "# Checking abnormality on dataset\n",
    "df.Rating[df['Rating']<1].sum()"
   ]
  },
  {
   "cell_type": "code",
   "execution_count": 10,
   "id": "46144f4e",
   "metadata": {},
   "outputs": [
    {
     "data": {
      "text/plain": [
       "0"
      ]
     },
     "execution_count": 10,
     "metadata": {},
     "output_type": "execute_result"
    }
   ],
   "source": [
    "# Checking abnormality on dataset\n",
    "df.Rating[df['Rating']>5].sum()"
   ]
  },
  {
   "cell_type": "markdown",
   "id": "fff155af",
   "metadata": {},
   "source": [
    "# There isn't rating out of defined 1-5 range on 'overall'. Let's see how many customers give ratings for each category."
   ]
  },
  {
   "cell_type": "code",
   "execution_count": 11,
   "id": "29ecbcfb",
   "metadata": {},
   "outputs": [
    {
     "data": {
      "text/plain": [
       "Rating\n",
       "4    223\n",
       "5    211\n",
       "2    209\n",
       "1    189\n",
       "3    168\n",
       "Name: count, dtype: int64"
      ]
     },
     "execution_count": 11,
     "metadata": {},
     "output_type": "execute_result"
    }
   ],
   "source": [
    "# Customer totals for each rating\n",
    "df.Rating.value_counts()"
   ]
  },
  {
   "cell_type": "markdown",
   "id": "4b2dc25c",
   "metadata": {},
   "source": [
    "# Heating maps for missing values"
   ]
  },
  {
   "cell_type": "code",
   "execution_count": 12,
   "id": "9f2c440a",
   "metadata": {},
   "outputs": [
    {
     "data": {
      "text/plain": [
       "(array([0.5, 1.5]), [Text(0.5, 0, 'Review_Text'), Text(1.5, 0, 'Rating')])"
      ]
     },
     "execution_count": 12,
     "metadata": {},
     "output_type": "execute_result"
    },
    {
     "data": {
      "image/png": "[encoded data removed]",
      "text/plain": [
       "<Figure size 1200x700 with 1 Axes>"
      ]
     },
     "metadata": {},
     "output_type": "display_data"
    }
   ],
   "source": [
    "plt.figure(figsize=(12,7))\n",
    "sns.set()\n",
    "sns.heatmap(df.isnull(),yticklabels=False,cbar=False,cmap='viridis')\n",
    "plt.xticks(fontsize=13,rotation=20)"
   ]
  },
  {
   "cell_type": "code",
   "execution_count": 13,
   "id": "ec22b5f6",
   "metadata": {},
   "outputs": [
    {
     "data": {
      "text/plain": [
       "Review_Text    100\n",
       "Rating           0\n",
       "dtype: int64"
      ]
     },
     "execution_count": 13,
     "metadata": {},
     "output_type": "execute_result"
    }
   ],
   "source": [
    "# # Check for missing values\n",
    "df.isnull().sum()"
   ]
  },
  {
   "cell_type": "markdown",
   "id": "ad3e197d",
   "metadata": {},
   "source": [
    "# Filling null values in Review_Text using mode function"
   ]
  },
  {
   "cell_type": "code",
   "execution_count": 14,
   "id": "be7f001d",
   "metadata": {},
   "outputs": [],
   "source": [
    "df['Review_Text'].fillna(df['Review_Text'].mode()[0], inplace=True)"
   ]
  },
  {
   "cell_type": "code",
   "execution_count": 15,
   "id": "cf40186f",
   "metadata": {},
   "outputs": [
    {
     "data": {
      "text/plain": [
       "Review_Text    0\n",
       "Rating         0\n",
       "dtype: int64"
      ]
     },
     "execution_count": 15,
     "metadata": {},
     "output_type": "execute_result"
    }
   ],
   "source": [
    "df.isnull().sum()"
   ]
  },
  {
   "cell_type": "markdown",
   "id": "253f65f4",
   "metadata": {},
   "source": [
    "# Some information about dataset so far:\n",
    "# This data set includes 1000 entries and 2 columns\n",
    "# Memory usage is 15.8+ KB.\n",
    "# In the dataset, we have 2 object, 1 int64 and 1 object data types.\n",
    "# 100 'Review_Text' information is missing in the dataset. Since customer don't write text always, we should be suspicious \n",
    "# about their reviews and ratings. Previously I preferred to drop the missing values from dataset but after more analysis\n",
    "# I am performing mode operation to fill data because we don't have enough data to perform analysis.\n",
    "# We should classify the 'Rating'  as good, neutral and bad in order to make sentiment analysis."
   ]
  },
  {
   "cell_type": "code",
   "execution_count": 16,
   "id": "89b263bf",
   "metadata": {},
   "outputs": [
    {
     "data": {
      "text/plain": [
       "Rating\n",
       "4    223\n",
       "5    211\n",
       "2    209\n",
       "1    189\n",
       "3    168\n",
       "Name: count, dtype: int64"
      ]
     },
     "execution_count": 16,
     "metadata": {},
     "output_type": "execute_result"
    }
   ],
   "source": [
    "# Customer totals for each rating (after drop missing values)\n",
    "df.Rating.value_counts()"
   ]
  },
  {
   "cell_type": "markdown",
   "id": "757d6b62",
   "metadata": {},
   "source": [
    "# Classify the 'Rating' as good ,neutral and bad"
   ]
  },
  {
   "cell_type": "code",
   "execution_count": 17,
   "id": "b95c1425",
   "metadata": {},
   "outputs": [
    {
     "name": "stdout",
     "output_type": "stream",
     "text": [
      "Good ratings    : 434 reviwes for health care.\n",
      "Neutral ratings :  168 reviwes for health care .\n",
      "Bad ratings     :  398 reviwes for health care.\n"
     ]
    }
   ],
   "source": [
    "# Classify ratings as good ,neutral and bad\n",
    "good_rate    = len (df [df['Rating'] > 3])\n",
    "neutral_rate = len (df [df['Rating'] == 3])\n",
    "bad_rate     = len (df [df['Rating'] < 3])\n",
    "\n",
    "# Printing rates and their total numbers\n",
    "\n",
    "print ( 'Good ratings    : {} reviwes for health care.'.format(good_rate))\n",
    "print ( 'Neutral ratings :  {} reviwes for health care .'.format(neutral_rate))\n",
    "print ( 'Bad ratings     :  {} reviwes for health care.'.format(bad_rate))"
   ]
  },
  {
   "cell_type": "code",
   "execution_count": 18,
   "id": "87ddf29c",
   "metadata": {},
   "outputs": [
    {
     "data": {
      "text/html": [
       "<div>\n",
       "<style scoped>\n",
       "    .dataframe tbody tr th:only-of-type {\n",
       "        vertical-align: middle;\n",
       "    }\n",
       "\n",
       "    .dataframe tbody tr th {\n",
       "        vertical-align: top;\n",
       "    }\n",
       "\n",
       "    .dataframe thead th {\n",
       "        text-align: right;\n",
       "    }\n",
       "</style>\n",
       "<table border=\"1\" class=\"dataframe\">\n",
       "  <thead>\n",
       "    <tr style=\"text-align: right;\">\n",
       "      <th></th>\n",
       "      <th>Review_Text</th>\n",
       "      <th>Rating</th>\n",
       "      <th>rating_class</th>\n",
       "    </tr>\n",
       "  </thead>\n",
       "  <tbody>\n",
       "    <tr>\n",
       "      <th>0</th>\n",
       "      <td>I have mixed feelings about my experience.</td>\n",
       "      <td>4</td>\n",
       "      <td>Good</td>\n",
       "    </tr>\n",
       "    <tr>\n",
       "      <th>1</th>\n",
       "      <td>The staff was caring and attentive. I couldn't...</td>\n",
       "      <td>5</td>\n",
       "      <td>Good</td>\n",
       "    </tr>\n",
       "    <tr>\n",
       "      <th>2</th>\n",
       "      <td>I have mixed feelings about my experience.</td>\n",
       "      <td>5</td>\n",
       "      <td>Good</td>\n",
       "    </tr>\n",
       "  </tbody>\n",
       "</table>\n",
       "</div>"
      ],
      "text/plain": [
       "                                         Review_Text  Rating rating_class\n",
       "0        I have mixed feelings about my experience.        4         Good\n",
       "1  The staff was caring and attentive. I couldn't...       5         Good\n",
       "2        I have mixed feelings about my experience.        5         Good"
      ]
     },
     "execution_count": 18,
     "metadata": {},
     "output_type": "execute_result"
    }
   ],
   "source": [
    "# Apply the new classification to the Rating column\n",
    "\n",
    "list_rate_class=[]\n",
    "\n",
    "for x in df['Rating']:\n",
    "    \n",
    "    if x < 3 :\n",
    "        list_rate_class.append('Bad')\n",
    "        \n",
    "    elif x==3 :\n",
    "        list_rate_class.append('Neutral')\n",
    "        \n",
    "    else :\n",
    "        list_rate_class.append('Good')\n",
    "\n",
    "\n",
    "df['rating_class'] = list_rate_class\n",
    "\n",
    "df.head(3)"
   ]
  },
  {
   "cell_type": "code",
   "execution_count": 19,
   "id": "fe61640c",
   "metadata": {},
   "outputs": [],
   "source": [
    "# We have a new column named as 'rating_class' consists of three classes such as 'good, neutral and bad' \n",
    "#after applying the new classification."
   ]
  },
  {
   "cell_type": "code",
   "execution_count": 20,
   "id": "86d7ded3",
   "metadata": {},
   "outputs": [
    {
     "data": {
      "text/html": [
       "<div>\n",
       "<style scoped>\n",
       "    .dataframe tbody tr th:only-of-type {\n",
       "        vertical-align: middle;\n",
       "    }\n",
       "\n",
       "    .dataframe tbody tr th {\n",
       "        vertical-align: top;\n",
       "    }\n",
       "\n",
       "    .dataframe thead th {\n",
       "        text-align: right;\n",
       "    }\n",
       "</style>\n",
       "<table border=\"1\" class=\"dataframe\">\n",
       "  <thead>\n",
       "    <tr style=\"text-align: right;\">\n",
       "      <th></th>\n",
       "      <th>Rating</th>\n",
       "    </tr>\n",
       "  </thead>\n",
       "  <tbody>\n",
       "    <tr>\n",
       "      <th>count</th>\n",
       "      <td>1000.000000</td>\n",
       "    </tr>\n",
       "    <tr>\n",
       "      <th>mean</th>\n",
       "      <td>3.058000</td>\n",
       "    </tr>\n",
       "    <tr>\n",
       "      <th>std</th>\n",
       "      <td>1.425015</td>\n",
       "    </tr>\n",
       "    <tr>\n",
       "      <th>min</th>\n",
       "      <td>1.000000</td>\n",
       "    </tr>\n",
       "    <tr>\n",
       "      <th>25%</th>\n",
       "      <td>2.000000</td>\n",
       "    </tr>\n",
       "    <tr>\n",
       "      <th>50%</th>\n",
       "      <td>3.000000</td>\n",
       "    </tr>\n",
       "    <tr>\n",
       "      <th>75%</th>\n",
       "      <td>4.000000</td>\n",
       "    </tr>\n",
       "    <tr>\n",
       "      <th>max</th>\n",
       "      <td>5.000000</td>\n",
       "    </tr>\n",
       "  </tbody>\n",
       "</table>\n",
       "</div>"
      ],
      "text/plain": [
       "            Rating\n",
       "count  1000.000000\n",
       "mean      3.058000\n",
       "std       1.425015\n",
       "min       1.000000\n",
       "25%       2.000000\n",
       "50%       3.000000\n",
       "75%       4.000000\n",
       "max       5.000000"
      ]
     },
     "execution_count": 20,
     "metadata": {},
     "output_type": "execute_result"
    }
   ],
   "source": [
    "# Read statistic summary of numeric variables\n",
    "df.describe()"
   ]
  },
  {
   "cell_type": "code",
   "execution_count": 21,
   "id": "8cb2e80e",
   "metadata": {},
   "outputs": [
    {
     "data": {
      "text/plain": [
       "rating_class\n",
       "Good       434\n",
       "Bad        398\n",
       "Neutral    168\n",
       "Name: count, dtype: int64"
      ]
     },
     "execution_count": 21,
     "metadata": {},
     "output_type": "execute_result"
    }
   ],
   "source": [
    "# Customer totals for each rating class\n",
    "df.rating_class.value_counts()"
   ]
  },
  {
   "cell_type": "code",
   "execution_count": 22,
   "id": "92c32cf5",
   "metadata": {},
   "outputs": [
    {
     "name": "stdout",
     "output_type": "stream",
     "text": [
      "Review_Text : 9\n",
      "Rating : 5\n",
      "rating_class : 3\n"
     ]
    }
   ],
   "source": [
    "# checking the unique values of the all columns only 9 Reviews are unique it means we have huge duplicated values \n",
    "\n",
    "for i in df.columns:\n",
    "    print(i,\":\",df[i].nunique())"
   ]
  },
  {
   "cell_type": "code",
   "execution_count": 35,
   "id": "7110c932",
   "metadata": {},
   "outputs": [],
   "source": [
    "df1=df.copy()"
   ]
  },
  {
   "cell_type": "markdown",
   "id": "d22103a9",
   "metadata": {},
   "source": [
    "# Removing Special Characters"
   ]
  },
  {
   "cell_type": "code",
   "execution_count": 36,
   "id": "02cb54b9",
   "metadata": {},
   "outputs": [],
   "source": [
    "import spacy\n",
    "import nltk\n",
    "from nltk.corpus import stopwords\n",
    "from nltk.stem import PorterStemmer, WordNetLemmatizer\n",
    "from nltk.tokenize import word_tokenize, sent_tokenize, regexp_tokenize\n",
    "from nltk.tokenize import RegexpTokenizer\n",
    "from nltk.tokenize.toktok import ToktokTokenizer\n",
    "import re\n",
    "from bs4 import BeautifulSoup\n",
    "from contractions import CONTRACTION_MAP\n",
    "#from contractions import contractions_dict\n",
    "import unicodedata\n",
    "tokenizer = ToktokTokenizer()\n",
    "#nlp = spacy.load('en', parse=True, tag=True, entity=True)\n",
    "import en_core_web_sm\n",
    "# spacy.cli.download(\"en_core_web_sm\")\n",
    "nlp = spacy.load(\"en_core_web_sm\")"
   ]
  },
  {
   "cell_type": "code",
   "execution_count": 37,
   "id": "07ad541e",
   "metadata": {},
   "outputs": [],
   "source": [
    "def remove_special_characters(text, remove_digits=False):\n",
    "    \n",
    "    \"Remove special characters/symbols\"\n",
    "    \n",
    "    pattern = r'[^a-zA-z0-9\\s]' if not remove_digits else r'[^a-zA-z\\s]'\n",
    "    text = re.sub(pattern, '', text)\n",
    "    return text"
   ]
  },
  {
   "cell_type": "code",
   "execution_count": 38,
   "id": "540998d8",
   "metadata": {},
   "outputs": [
    {
     "name": "stderr",
     "output_type": "stream",
     "text": [
      "[nltk_data] Downloading package punkt to\n",
      "[nltk_data]     C:\\Users\\Dell\\AppData\\Roaming\\nltk_data...\n",
      "[nltk_data]   Package punkt is already up-to-date!\n"
     ]
    },
    {
     "data": {
      "text/plain": [
       "True"
      ]
     },
     "execution_count": 38,
     "metadata": {},
     "output_type": "execute_result"
    }
   ],
   "source": [
    "import nltk\n",
    "nltk.download(\"punkt\")"
   ]
  },
  {
   "cell_type": "code",
   "execution_count": null,
   "id": "c79fed4d",
   "metadata": {},
   "outputs": [],
   "source": [
    "#! pip install spacy"
   ]
  },
  {
   "cell_type": "code",
   "execution_count": 39,
   "id": "13dff83b",
   "metadata": {},
   "outputs": [
    {
     "data": {
      "text/html": [
       "<div>\n",
       "<style scoped>\n",
       "    .dataframe tbody tr th:only-of-type {\n",
       "        vertical-align: middle;\n",
       "    }\n",
       "\n",
       "    .dataframe tbody tr th {\n",
       "        vertical-align: top;\n",
       "    }\n",
       "\n",
       "    .dataframe thead th {\n",
       "        text-align: right;\n",
       "    }\n",
       "</style>\n",
       "<table border=\"1\" class=\"dataframe\">\n",
       "  <thead>\n",
       "    <tr style=\"text-align: right;\">\n",
       "      <th></th>\n",
       "      <th>Review_Text</th>\n",
       "      <th>Rating</th>\n",
       "      <th>rating_class</th>\n",
       "    </tr>\n",
       "  </thead>\n",
       "  <tbody>\n",
       "    <tr>\n",
       "      <th>0</th>\n",
       "      <td>I have mixed feelings about my experience.</td>\n",
       "      <td>4</td>\n",
       "      <td>Good</td>\n",
       "    </tr>\n",
       "    <tr>\n",
       "      <th>1</th>\n",
       "      <td>The staff was caring and attentive. I couldn't...</td>\n",
       "      <td>5</td>\n",
       "      <td>Good</td>\n",
       "    </tr>\n",
       "    <tr>\n",
       "      <th>2</th>\n",
       "      <td>I have mixed feelings about my experience.</td>\n",
       "      <td>5</td>\n",
       "      <td>Good</td>\n",
       "    </tr>\n",
       "    <tr>\n",
       "      <th>3</th>\n",
       "      <td>I have mixed feelings about my experience.</td>\n",
       "      <td>5</td>\n",
       "      <td>Good</td>\n",
       "    </tr>\n",
       "    <tr>\n",
       "      <th>4</th>\n",
       "      <td>The healthcare provider was excellent. I had a...</td>\n",
       "      <td>3</td>\n",
       "      <td>Neutral</td>\n",
       "    </tr>\n",
       "  </tbody>\n",
       "</table>\n",
       "</div>"
      ],
      "text/plain": [
       "                                         Review_Text  Rating rating_class\n",
       "0        I have mixed feelings about my experience.        4         Good\n",
       "1  The staff was caring and attentive. I couldn't...       5         Good\n",
       "2        I have mixed feelings about my experience.        5         Good\n",
       "3        I have mixed feelings about my experience.        5         Good\n",
       "4  The healthcare provider was excellent. I had a...       3      Neutral"
      ]
     },
     "execution_count": 39,
     "metadata": {},
     "output_type": "execute_result"
    }
   ],
   "source": [
    "df1.head()"
   ]
  },
  {
   "cell_type": "code",
   "execution_count": 40,
   "id": "c89cef28",
   "metadata": {},
   "outputs": [
    {
     "name": "stdout",
     "output_type": "stream",
     "text": [
      "{'a', 'it', 'beforehand', 'via', \"'ve\", 'whereupon', 'if', 'amount', 'everyone', 'sometime', 'however', 'noone', 'any', 'might', 'while', 'whom', 'thereafter', 'your', 'few', 'toward', 'of', \"'ll\", 'sixty', 'them', 'with', 'done', '‘ve', 'nobody', 'so', 'anyway', 'or', 'across', 'own', 'an', 'really', 'is', 'side', 'latterly', 'may', 'always', 'thence', 'get', 'some', 'perhaps', 'hence', 'these', 'whenever', 'she', 'never', 'had', \"'m\", 'he', 'under', 'further', '’ll', 'besides', 'to', 'yours', 'say', 'during', 'its', 'on', 'among', 'into', 'name', 'nor', 'everything', 'someone', 'again', '‘ll', \"'s\", 'everywhere', 'and', 'only', 'elsewhere', 'our', 'this', 'thru', 'can', 'one', 'fifty', 'my', 'keep', 'ever', 'those', 'become', 'yourself', 'something', 'anything', 'yourselves', 'hundred', 'cannot', '’d', 'without', '‘re', 'are', 'regarding', 'about', 'along', 'nowhere', 'onto', 'though', 'eleven', 'itself', 'otherwise', 'least', 'within', 'per', 'beside', 'before', 'once', 'thereupon', 'between', 'down', 'much', '’m', 'well', 'could', 'the', 'did', 'also', 'either', 'becoming', 'who', 'see', 'even', 'same', 'anywhere', 'where', '’ve', 'whereas', 'latter', 'therein', 'less', 'mine', 'n‘t', 'which', 'in', 'wherein', 'call', 'from', 'you', 'when', 'whence', 'themselves', 'became', 'off', 'move', 'after', 'yet', 'fifteen', 'other', 'rather', 'then', 'nine', 'n’t', 'very', 'afterwards', 'through', 'seem', 'herself', 'us', 'no', 'against', 'more', 'top', 'give', 'six', 'forty', 'there', \"'d\", '‘s', 'quite', 'her', 'next', 'still', 'not', 'but', 'behind', 'at', 'around', 'thereby', 'was', 'nothing', 'me', 'towards', 'amongst', 'whoever', 'used', 'together', 'formerly', 'whatever', 'hers', 'mostly', 'seeming', 'empty', \"'re\", 'seems', 'enough', 'wherever', 'therefore', 'often', 'just', 'ten', 'all', 'somewhere', 'their', 'hereafter', '’re', 'show', 'whose', 'five', 'almost', 'back', 'put', 'below', 'ourselves', 'ca', 'seemed', 'last', 'because', 'myself', 'have', 'does', 'anyone', \"n't\", 'do', 'whether', 'although', 'becomes', 'front', 'somehow', 'here', 'beyond', 'namely', 'such', 'whereafter', '’s', 'hereby', 'ours', 're', 'every', 'i', 'am', 'being', 'already', 'former', 'since', 'whereby', 'throughout', 'sometimes', 'using', 'first', 'full', 'several', 'herein', 'nevertheless', 'third', 'should', 'they', 'would', 'upon', 'made', 'as', 'by', 'two', 'now', 'various', 'others', 'whither', 'moreover', 'for', 'except', 'whole', 'else', 'indeed', 'than', 'be', 'twenty', 'both', 'part', 'were', 'each', 'eight', 'many', 'been', 'how', 'until', 'make', 'go', 'must', 'three', 'him', 'over', 'none', 'above', 'please', 'too', 'serious', 'will', 'thus', 'that', 'what', 'due', 'up', 'has', 'four', 'meanwhile', 'we', 'most', 'his', 'bottom', 'doing', 'anyhow', 'alone', 'out', '‘m', 'another', 'take', 'why', 'hereupon', 'twelve', 'neither', '‘d', 'unless', 'himself'}\n"
     ]
    }
   ],
   "source": [
    "import spacy\n",
    "nlp = spacy.load('en_core_web_sm')\n",
    "stop_words = nlp.Defaults.stop_words\n",
    "\n",
    "print(stop_words)\n"
   ]
  },
  {
   "cell_type": "code",
   "execution_count": 41,
   "id": "18db4d77",
   "metadata": {},
   "outputs": [],
   "source": [
    "# Instantiate Tokenizer\n",
    "tokenizer = ToktokTokenizer()\n",
    "\n",
    "# Create stopword list\n",
    "stopword_list = nltk.corpus.stopwords.words('english')\n",
    "\n",
    "# 'no' and 'not' may give us information so those are removed from stop list\n",
    "stopword_list.remove('no')\n",
    "stopword_list.remove('not')\n",
    "stopword_list.append('I')"
   ]
  },
  {
   "cell_type": "code",
   "execution_count": 42,
   "id": "d6c8eba9",
   "metadata": {},
   "outputs": [
    {
     "name": "stdout",
     "output_type": "stream",
     "text": [
      "['i', 'me', 'my', 'myself', 'we', 'our', 'ours', 'ourselves', 'you', \"you're\", \"you've\", \"you'll\", \"you'd\", 'your', 'yours', 'yourself', 'yourselves', 'he', 'him', 'his', 'himself', 'she', \"she's\", 'her', 'hers', 'herself', 'it', \"it's\", 'its', 'itself', 'they', 'them', 'their', 'theirs', 'themselves', 'what', 'which', 'who', 'whom', 'this', 'that', \"that'll\", 'these', 'those', 'am', 'is', 'are', 'was', 'were', 'be', 'been', 'being', 'have', 'has', 'had', 'having', 'do', 'does', 'did', 'doing', 'a', 'an', 'the', 'and', 'but', 'if', 'or', 'because', 'as', 'until', 'while', 'of', 'at', 'by', 'for', 'with', 'about', 'against', 'between', 'into', 'through', 'during', 'before', 'after', 'above', 'below', 'to', 'from', 'up', 'down', 'in', 'out', 'on', 'off', 'over', 'under', 'again', 'further', 'then', 'once', 'here', 'there', 'when', 'where', 'why', 'how', 'all', 'any', 'both', 'each', 'few', 'more', 'most', 'other', 'some', 'such', 'nor', 'only', 'own', 'same', 'so', 'than', 'too', 'very', 's', 't', 'can', 'will', 'just', 'don', \"don't\", 'should', \"should've\", 'now', 'd', 'll', 'm', 'o', 're', 've', 'y', 'ain', 'aren', \"aren't\", 'couldn', \"couldn't\", 'didn', \"didn't\", 'doesn', \"doesn't\", 'hadn', \"hadn't\", 'hasn', \"hasn't\", 'haven', \"haven't\", 'isn', \"isn't\", 'ma', 'mightn', \"mightn't\", 'mustn', \"mustn't\", 'needn', \"needn't\", 'shan', \"shan't\", 'shouldn', \"shouldn't\", 'wasn', \"wasn't\", 'weren', \"weren't\", 'won', \"won't\", 'wouldn', \"wouldn't\", 'I']\n"
     ]
    }
   ],
   "source": [
    "print(stopword_list)"
   ]
  },
  {
   "cell_type": "code",
   "execution_count": 43,
   "id": "75ef4959",
   "metadata": {},
   "outputs": [],
   "source": [
    "# Lemmatization\n",
    "# I will remove word affixes to get to the base form of a word, known as root word."
   ]
  },
  {
   "cell_type": "code",
   "execution_count": 44,
   "id": "64a80707",
   "metadata": {},
   "outputs": [],
   "source": [
    "def lemmatize_text(text):\n",
    "    text = nlp(text)\n",
    "    text = ' '.join([word.lemma_ if word.lemma_ != '-PRON-' else word.text for word in text])\n",
    "    return text"
   ]
  },
  {
   "cell_type": "code",
   "execution_count": 45,
   "id": "4872b826",
   "metadata": {},
   "outputs": [],
   "source": [
    "# Removing stopwords"
   ]
  },
  {
   "cell_type": "code",
   "execution_count": 46,
   "id": "45b9d029",
   "metadata": {},
   "outputs": [],
   "source": [
    "def remove_stopwords(text, is_lower_case=False):\n",
    "    \n",
    "    \"Remove stopwords in the text except 'no' and 'not'\"\n",
    "    \n",
    "    tokens = tokenizer.tokenize(text)\n",
    "    tokens = [token.strip() for token in tokens]\n",
    "    if is_lower_case:\n",
    "        filtered_tokens = [token for token in tokens if token not in stopword_list]\n",
    "    else:\n",
    "        filtered_tokens = [token for token in tokens if token.lower() not in stopword_list]\n",
    "    filtered_text = ' '.join(filtered_tokens)    \n",
    "    return filtered_text"
   ]
  },
  {
   "cell_type": "code",
   "execution_count": 47,
   "id": "07954844",
   "metadata": {},
   "outputs": [],
   "source": [
    "def expand_contractions(text, contraction_mapping=CONTRACTION_MAP):\n",
    "    \n",
    "    contractions_pattern = re.compile('({})'.format('|'.join(CONTRACTION_MAP.keys())), \n",
    "                                      flags=re.IGNORECASE|re.DOTALL)\n",
    "    def expand_match(contraction):\n",
    "        match = contraction.group(0)\n",
    "        first_char = match[0]\n",
    "        expanded_contraction = CONTRACTION_MAP.get(match)\\\n",
    "                                if CONTRACTION_MAP.get(match)\\\n",
    "                                else CONTRACTION_MAP.get(match.lower())                       \n",
    "        expanded_contraction = first_char+expanded_contraction[1:]\n",
    "        return expanded_contraction\n",
    "        \n",
    "    expanded_text = contractions_pattern.sub(expand_match, text)\n",
    "    expanded_text = re.sub(\"'\", \"\", expanded_text)\n",
    "    return expanded_text\n",
    "\n",
    "# ##REmoving contractionfrom text\n",
    "# import contractions\n",
    "# def expand_contractions(text):\n",
    "#     expanded_text = contractions.fix(text)\n",
    "#     return expanded_text"
   ]
  },
  {
   "cell_type": "code",
   "execution_count": 48,
   "id": "4bf88932",
   "metadata": {},
   "outputs": [],
   "source": [
    "# Building a Text Normalizer\n",
    "# Based on the functions which we have written above and also with additional text correction techniques, we will build a text normalizer in order to help us to preproces the new_text document."
   ]
  },
  {
   "cell_type": "code",
   "execution_count": 49,
   "id": "de5ab241",
   "metadata": {},
   "outputs": [],
   "source": [
    "def normalize_corpus(doc, text_lower_case=True,contraction_expansion=True,\n",
    "                     text_lemmatization=True, special_char_removal=True, \n",
    "                     stopword_removal=True, remove_digits=True):\n",
    "     \n",
    "            \n",
    "    # lowercase the text    \n",
    "    if text_lower_case:\n",
    "        doc = doc.lower()\n",
    "            \n",
    "    # remove extra newlines\n",
    "    doc = re.sub(r'[\\r|\\n|\\r\\n]+', ' ',doc)\n",
    "        \n",
    "    # lemmatize text\n",
    "    if text_lemmatization:\n",
    "        doc = lemmatize_text(doc)\n",
    "        \n",
    "    if contraction_expansion:\n",
    "        doc = expand_contractions(doc)\n",
    "            \n",
    "    # remove special characters and\\or digits    \n",
    "    if special_char_removal:\n",
    "        # insert spaces between special characters to isolate them    \n",
    "        special_char_pattern = re.compile(r'([{.(-)!}])')\n",
    "        doc = special_char_pattern.sub(\" \\\\1 \", doc)\n",
    "        doc = remove_special_characters(doc, remove_digits=remove_digits)  \n",
    "            \n",
    "    # remove extra whitespace\n",
    "    doc = re.sub(' +', ' ', doc)\n",
    "        \n",
    "    # remove ' (apostrophe) sign\n",
    "    doc = re.sub(r\"'\", r'', doc)\n",
    "        \n",
    "    # remove stopwords\n",
    "    if stopword_removal:\n",
    "        doc = remove_stopwords(doc, is_lower_case=text_lower_case)\n",
    "        \n",
    "    return doc"
   ]
  },
  {
   "cell_type": "markdown",
   "id": "5bbeb768",
   "metadata": {},
   "source": [
    "# Creating 'clean_text' column from \"review_text\" by using text normalizer"
   ]
  },
  {
   "cell_type": "code",
   "execution_count": 50,
   "id": "90f8332b",
   "metadata": {},
   "outputs": [],
   "source": [
    "# Create a new column for cleaned text \n",
    "df1['clean_text'] = list(map(lambda doc: normalize_corpus(doc),df1['Review_Text']))"
   ]
  },
  {
   "cell_type": "code",
   "execution_count": 51,
   "id": "9771e467",
   "metadata": {},
   "outputs": [],
   "source": [
    "# Creating 'clues' column from the clean_text by using tokenizer"
   ]
  },
  {
   "cell_type": "code",
   "execution_count": 52,
   "id": "e1520e1e",
   "metadata": {},
   "outputs": [
    {
     "data": {
      "text/html": [
       "<div>\n",
       "<style scoped>\n",
       "    .dataframe tbody tr th:only-of-type {\n",
       "        vertical-align: middle;\n",
       "    }\n",
       "\n",
       "    .dataframe tbody tr th {\n",
       "        vertical-align: top;\n",
       "    }\n",
       "\n",
       "    .dataframe thead th {\n",
       "        text-align: right;\n",
       "    }\n",
       "</style>\n",
       "<table border=\"1\" class=\"dataframe\">\n",
       "  <thead>\n",
       "    <tr style=\"text-align: right;\">\n",
       "      <th></th>\n",
       "      <th>Review_Text</th>\n",
       "      <th>Rating</th>\n",
       "      <th>rating_class</th>\n",
       "      <th>clean_text</th>\n",
       "      <th>clues</th>\n",
       "    </tr>\n",
       "  </thead>\n",
       "  <tbody>\n",
       "    <tr>\n",
       "      <th>0</th>\n",
       "      <td>I have mixed feelings about my experience.</td>\n",
       "      <td>4</td>\n",
       "      <td>Good</td>\n",
       "      <td>mixed feeling experience</td>\n",
       "      <td>[mixed, feeling, experience]</td>\n",
       "    </tr>\n",
       "    <tr>\n",
       "      <th>1</th>\n",
       "      <td>The staff was caring and attentive. I couldn't...</td>\n",
       "      <td>5</td>\n",
       "      <td>Good</td>\n",
       "      <td>staff care attentive could not happy</td>\n",
       "      <td>[staff, care, attentive, could, not, happy]</td>\n",
       "    </tr>\n",
       "    <tr>\n",
       "      <th>2</th>\n",
       "      <td>I have mixed feelings about my experience.</td>\n",
       "      <td>5</td>\n",
       "      <td>Good</td>\n",
       "      <td>mixed feeling experience</td>\n",
       "      <td>[mixed, feeling, experience]</td>\n",
       "    </tr>\n",
       "    <tr>\n",
       "      <th>3</th>\n",
       "      <td>I have mixed feelings about my experience.</td>\n",
       "      <td>5</td>\n",
       "      <td>Good</td>\n",
       "      <td>mixed feeling experience</td>\n",
       "      <td>[mixed, feeling, experience]</td>\n",
       "    </tr>\n",
       "    <tr>\n",
       "      <th>4</th>\n",
       "      <td>The healthcare provider was excellent. I had a...</td>\n",
       "      <td>3</td>\n",
       "      <td>Neutral</td>\n",
       "      <td>healthcare provider excellent great experience</td>\n",
       "      <td>[healthcare, provider, excellent, great, exper...</td>\n",
       "    </tr>\n",
       "    <tr>\n",
       "      <th>5</th>\n",
       "      <td>The staff was caring and attentive. I couldn't...</td>\n",
       "      <td>4</td>\n",
       "      <td>Good</td>\n",
       "      <td>staff care attentive could not happy</td>\n",
       "      <td>[staff, care, attentive, could, not, happy]</td>\n",
       "    </tr>\n",
       "    <tr>\n",
       "      <th>6</th>\n",
       "      <td>I'm very satisfied with the service I received...</td>\n",
       "      <td>2</td>\n",
       "      <td>Bad</td>\n",
       "      <td>satisfied service receive highly recommend</td>\n",
       "      <td>[satisfied, service, receive, highly, recommend]</td>\n",
       "    </tr>\n",
       "    <tr>\n",
       "      <th>7</th>\n",
       "      <td>I had a bad experience with this healthcare pr...</td>\n",
       "      <td>2</td>\n",
       "      <td>Bad</td>\n",
       "      <td>bad experience healthcare provider avoid possible</td>\n",
       "      <td>[bad, experience, healthcare, provider, avoid,...</td>\n",
       "    </tr>\n",
       "    <tr>\n",
       "      <th>8</th>\n",
       "      <td>I have mixed feelings about my experience.</td>\n",
       "      <td>3</td>\n",
       "      <td>Neutral</td>\n",
       "      <td>mixed feeling experience</td>\n",
       "      <td>[mixed, feeling, experience]</td>\n",
       "    </tr>\n",
       "    <tr>\n",
       "      <th>9</th>\n",
       "      <td>I have mixed feelings about my experience.</td>\n",
       "      <td>5</td>\n",
       "      <td>Good</td>\n",
       "      <td>mixed feeling experience</td>\n",
       "      <td>[mixed, feeling, experience]</td>\n",
       "    </tr>\n",
       "  </tbody>\n",
       "</table>\n",
       "</div>"
      ],
      "text/plain": [
       "                                         Review_Text  Rating rating_class  \\\n",
       "0        I have mixed feelings about my experience.        4         Good   \n",
       "1  The staff was caring and attentive. I couldn't...       5         Good   \n",
       "2        I have mixed feelings about my experience.        5         Good   \n",
       "3        I have mixed feelings about my experience.        5         Good   \n",
       "4  The healthcare provider was excellent. I had a...       3      Neutral   \n",
       "5  The staff was caring and attentive. I couldn't...       4         Good   \n",
       "6  I'm very satisfied with the service I received...       2          Bad   \n",
       "7  I had a bad experience with this healthcare pr...       2          Bad   \n",
       "8        I have mixed feelings about my experience.        3      Neutral   \n",
       "9        I have mixed feelings about my experience.        5         Good   \n",
       "\n",
       "                                          clean_text  \\\n",
       "0                           mixed feeling experience   \n",
       "1               staff care attentive could not happy   \n",
       "2                           mixed feeling experience   \n",
       "3                           mixed feeling experience   \n",
       "4     healthcare provider excellent great experience   \n",
       "5               staff care attentive could not happy   \n",
       "6         satisfied service receive highly recommend   \n",
       "7  bad experience healthcare provider avoid possible   \n",
       "8                           mixed feeling experience   \n",
       "9                           mixed feeling experience   \n",
       "\n",
       "                                               clues  \n",
       "0                       [mixed, feeling, experience]  \n",
       "1        [staff, care, attentive, could, not, happy]  \n",
       "2                       [mixed, feeling, experience]  \n",
       "3                       [mixed, feeling, experience]  \n",
       "4  [healthcare, provider, excellent, great, exper...  \n",
       "5        [staff, care, attentive, could, not, happy]  \n",
       "6   [satisfied, service, receive, highly, recommend]  \n",
       "7  [bad, experience, healthcare, provider, avoid,...  \n",
       "8                       [mixed, feeling, experience]  \n",
       "9                       [mixed, feeling, experience]  "
      ]
     },
     "execution_count": 52,
     "metadata": {},
     "output_type": "execute_result"
    }
   ],
   "source": [
    "# create a new column named as clues  from 'clean_text' by applying tokenizer\n",
    "tokenizer = RegexpTokenizer(r'\\w+')\n",
    "df1[\"clues\"] = df1[\"clean_text\"].apply(tokenizer.tokenize)\n",
    "df1.head(10)"
   ]
  },
  {
   "cell_type": "code",
   "execution_count": 53,
   "id": "0edde43a",
   "metadata": {},
   "outputs": [
    {
     "data": {
      "text/plain": [
       "0                           [mixed, feeling, experience]\n",
       "1            [staff, care, attentive, could, not, happy]\n",
       "2                           [mixed, feeling, experience]\n",
       "3                           [mixed, feeling, experience]\n",
       "4      [healthcare, provider, excellent, great, exper...\n",
       "                             ...                        \n",
       "995    [experience, terrible, would, not, recommend, ...\n",
       "996            [service, disappointing, not, come, back]\n",
       "997                [service, okay, nothing, exceptional]\n",
       "998                         [mixed, feeling, experience]\n",
       "999          [staff, care, attentive, could, not, happy]\n",
       "Name: clues, Length: 1000, dtype: object"
      ]
     },
     "execution_count": 53,
     "metadata": {},
     "output_type": "execute_result"
    }
   ],
   "source": [
    "df1[\"clues\"]"
   ]
  },
  {
   "cell_type": "code",
   "execution_count": 54,
   "id": "a153576a",
   "metadata": {},
   "outputs": [
    {
     "name": "stdout",
     "output_type": "stream",
     "text": [
      "5004 words total, with a vocabulary size of 32\n",
      "Max review length is (word based) 6\n",
      "Min review length is (word based) 3\n"
     ]
    }
   ],
   "source": [
    "# Tokens status\n",
    "all_words = [word for tokens in df1[\"clues\"] for word in tokens]\n",
    "sentence_lengths = [len(tokens) for tokens in df1[\"clues\"]]\n",
    "vocabulary = sorted(list(set(all_words)))\n",
    "print(\"%s words total, with a vocabulary size of %s\" % (len(all_words), len(vocabulary)))\n",
    "print(\"Max review length is (word based) %s\" % max(sentence_lengths))\n",
    "print(\"Min review length is (word based) %s\" % min(sentence_lengths))"
   ]
  },
  {
   "cell_type": "code",
   "execution_count": 55,
   "id": "de08ba50",
   "metadata": {},
   "outputs": [],
   "source": [
    "df1.to_csv('C:/Users/Dell/JupyterPythoncodes/FinalProject/cleaned_health_reviews.csv', sep = ',', encoding = 'utf-8', index = False)"
   ]
  },
  {
   "cell_type": "code",
   "execution_count": 23,
   "id": "c06cf64b",
   "metadata": {},
   "outputs": [],
   "source": [
    "#converted dataframe to cleaned_health_reviews.csv"
   ]
  },
  {
   "cell_type": "code",
   "execution_count": null,
   "id": "3444206c",
   "metadata": {},
   "outputs": [],
   "source": []
  },
  {
   "cell_type": "code",
   "execution_count": null,
   "id": "b652f6a2",
   "metadata": {},
   "outputs": [],
   "source": []
  }
 ],
 "metadata": {
  "kernelspec": {
   "display_name": "Python 3 (ipykernel)",
   "language": "python",
   "name": "python3"
  },
  "language_info": {
   "codemirror_mode": {
    "name": "ipython",
    "version": 3
   },
   "file_extension": ".py",
   "mimetype": "text/x-python",
   "name": "python",
   "nbconvert_exporter": "python",
   "pygments_lexer": "ipython3",
   "version": "3.11.5"
  }
 },
 "nbformat": 4,
 "nbformat_minor": 5
}
